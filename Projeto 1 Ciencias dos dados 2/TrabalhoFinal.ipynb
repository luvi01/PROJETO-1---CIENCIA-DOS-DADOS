{
 "cells": [
  {
   "cell_type": "code",
   "execution_count": 61,
   "metadata": {},
   "outputs": [],
   "source": [
    "import pandas as pd\n",
    "import seaborn as sns\n",
    "import numpy as np\n",
    "%matplotlib inline\n",
    "import matplotlib.pyplot as plt\n",
    "import matplotlib\n",
    "\n",
    "\n",
    "def reta(dados_x, dados_y):    \n",
    "    a = dados_y.cov(dados_x) / dados_x.var()\n",
    "    b = dados_y.mean() - a*dados_x.mean()\n",
    " \n",
    "    print('Ajuste linear entre X3 e X4:')\n",
    "    print('Coeficiente linear:', b)\n",
    "    print('Coeficiente angular:', a)\n",
    " \n",
    "    fig = plt.figure(figsize=(11, 6))\n",
    "    plt.scatter(dados_x, dados_y, c='red', alpha=0.8)\n",
    "    plt.title('x versus y')\n",
    "    plt.xlabel('eixo x')\n",
    "    plt.ylabel('eixo y')\n",
    " \n",
    "    plt.plot((dados_x.min(), dados_x.max()), (a*dados_x.min()+b, a*dados_x.max()+b), color='blue')\n",
    " \n",
    "    plt.tight_layout()"
   ]
  },
  {
   "cell_type": "code",
   "execution_count": 62,
   "metadata": {},
   "outputs": [],
   "source": [
    "Totalsum = pd.read_excel(\"Totalsum.xlsx\")"
   ]
  },
  {
   "cell_type": "code",
   "execution_count": 63,
   "metadata": {},
   "outputs": [
    {
     "data": {
      "text/html": [
       "<div>\n",
       "<style scoped>\n",
       "    .dataframe tbody tr th:only-of-type {\n",
       "        vertical-align: middle;\n",
       "    }\n",
       "\n",
       "    .dataframe tbody tr th {\n",
       "        vertical-align: top;\n",
       "    }\n",
       "\n",
       "    .dataframe thead th {\n",
       "        text-align: right;\n",
       "    }\n",
       "</style>\n",
       "<table border=\"1\" class=\"dataframe\">\n",
       "  <thead>\n",
       "    <tr style=\"text-align: right;\">\n",
       "      <th></th>\n",
       "      <th>geo</th>\n",
       "      <th>Ajudatotal5anos</th>\n",
       "      <th>DeltaIDH</th>\n",
       "      <th>Governo</th>\n",
       "    </tr>\n",
       "  </thead>\n",
       "  <tbody>\n",
       "    <tr>\n",
       "      <th>0</th>\n",
       "      <td>Afghanistan</td>\n",
       "      <td>57.35</td>\n",
       "      <td>0.016</td>\n",
       "      <td>Closed Anocracy</td>\n",
       "    </tr>\n",
       "    <tr>\n",
       "      <th>1</th>\n",
       "      <td>Albania</td>\n",
       "      <td>527.50</td>\n",
       "      <td>0.034</td>\n",
       "      <td>Anocracy</td>\n",
       "    </tr>\n",
       "    <tr>\n",
       "      <th>2</th>\n",
       "      <td>Algeria</td>\n",
       "      <td>53.58</td>\n",
       "      <td>0.044</td>\n",
       "      <td>Closed Anocracy</td>\n",
       "    </tr>\n",
       "    <tr>\n",
       "      <th>3</th>\n",
       "      <td>Argentina</td>\n",
       "      <td>16.97</td>\n",
       "      <td>0.040</td>\n",
       "      <td>Medium</td>\n",
       "    </tr>\n",
       "    <tr>\n",
       "      <th>4</th>\n",
       "      <td>Armenia</td>\n",
       "      <td>413.60</td>\n",
       "      <td>0.041</td>\n",
       "      <td>Anocracy</td>\n",
       "    </tr>\n",
       "  </tbody>\n",
       "</table>\n",
       "</div>"
      ],
      "text/plain": [
       "           geo  Ajudatotal5anos  DeltaIDH          Governo\n",
       "0  Afghanistan            57.35     0.016  Closed Anocracy\n",
       "1      Albania           527.50     0.034         Anocracy\n",
       "2      Algeria            53.58     0.044  Closed Anocracy\n",
       "3    Argentina            16.97     0.040           Medium\n",
       "4      Armenia           413.60     0.041         Anocracy"
      ]
     },
     "execution_count": 63,
     "metadata": {},
     "output_type": "execute_result"
    }
   ],
   "source": [
    "Totalsum.head()"
   ]
  },
  {
   "cell_type": "code",
   "execution_count": 64,
   "metadata": {},
   "outputs": [
    {
     "name": "stdout",
     "output_type": "stream",
     "text": [
      "Ajuste linear entre X3 e X4:\n",
      "Coeficiente linear: 0.02447904255039285\n",
      "Coeficiente angular: 5.749302888142396e-05\n",
      "Ajuste linear entre X3 e X4:\n",
      "Coeficiente linear: 0.023312154282001684\n",
      "Coeficiente angular: -7.0109974199505365e-06\n",
      "Ajuste linear entre X3 e X4:\n",
      "Coeficiente linear: 0.03332163037786084\n",
      "Coeficiente angular: -1.2483810023360265e-05\n",
      "Ajuste linear entre X3 e X4:\n",
      "Coeficiente linear: 0.024001355630957687\n",
      "Coeficiente angular: -1.1994097094982393e-05\n",
      "Ajuste linear entre X3 e X4:\n",
      "Coeficiente linear: 0.02798738377620176\n",
      "Coeficiente angular: -8.72708015589278e-06\n"
     ]
    },
    {
     "data": {
      "image/png": "[encoded data removed]",
      "text/plain": [
       "<matplotlib.figure.Figure at 0x1f24f45dac8>"
      ]
     },
     "metadata": {},
     "output_type": "display_data"
    }
   ],
   "source": [
    "governos = ['Full Democracy', \"Medium\", \"Anocracy\", \"Closed Anocracy\", \"Autocracy\"]\n",
    "\n",
    "cores = [\"#0000FF\", \"#81DAF5\", \"#FFBF00\",\"#FFFF00\", \"#DF0101\"]\n",
    "\n",
    "for e in range(5):\n",
    "    dedo = Totalsum[Totalsum['Governo']==governos[e]]\n",
    "    cor = cores[e]\n",
    "    reta(dedo[\"Ajudatotal5anos\"],dedo[\"DeltaIDH\"])\n",
    "    plt.scatter(dedo[\"Ajudatotal5anos\"],dedo[\"DeltaIDH\"],c=cor,alpha=0.8)"
   ]
  },
  {
   "cell_type": "code",
   "execution_count": null,
   "metadata": {},
   "outputs": [],
   "source": []
  },
  {
   "cell_type": "code",
   "execution_count": 65,
   "metadata": {},
   "outputs": [
    {
     "data": {
      "text/plain": [
       "[<matplotlib.lines.Line2D at 0x1f250d2f438>,\n",
       " <matplotlib.lines.Line2D at 0x1f250d2f550>]"
      ]
     },
     "execution_count": 65,
     "metadata": {},
     "output_type": "execute_result"
    },
    {
     "data": {
      "image/png": "[encoded data removed]",
      "text/plain": [
       "<matplotlib.figure.Figure at 0x1f24f45dbe0>"
      ]
     },
     "metadata": {},
     "output_type": "display_data"
    }
   ],
   "source": [
    "#reta(Totalsum[\"Ajudatotal5anos\"],Totalsum[\"DeltaIDH\"])\n",
    "o = reg(Totalsum[\"Ajudatotal5anos\"],Totalsum[\"DeltaIDH\"])\n",
    "plt.scatter(Totalsum[\"Ajudatotal5anos\"],Totalsum[\"DeltaIDH\"],c='red',alpha=0.8)\n",
    "plt.plot(o, color = 'Blue')"
   ]
  },
  {
   "cell_type": "code",
   "execution_count": null,
   "metadata": {},
   "outputs": [],
   "source": [
    "def reta(dados_x, dados_y):    \n",
    "    a = dados_y.cov(dados_x) / dados_x.var()\n",
    "    b = dados_y.mean() - a*dados_x.mean()\n",
    "\n",
    "    print('Ajuste linear entre X3 e X4:')\n",
    "    print('Coeficiente linear:', b)\n",
    "    print('Coeficiente angular:', a)\n",
    "\n",
    "    fig = plt.figure(figsize=(8, 6))\n",
    "    plt.scatter(dados_x, dados_y, c='red', alpha=0.8)\n",
    "    plt.title('x versus y')\n",
    "    plt.xlabel('eixo x')\n",
    "    plt.ylabel('eixo y')\n",
    "\n",
    "    plt.plot((dados_x.min(), dados_x.max()), (a*dados_x.min()+b, a*dados_x.max()+b), color='blue')\n",
    "\n",
    "    plt.tight_layout()\n",
    "    plt.show()"
   ]
  }
 ],
 "metadata": {
  "kernelspec": {
   "display_name": "Python 3",
   "language": "python",
   "name": "python3"
  },
  "language_info": {
   "codemirror_mode": {
    "name": "ipython",
    "version": 3
   },
   "file_extension": ".py",
   "mimetype": "text/x-python",
   "name": "python",
   "nbconvert_exporter": "python",
   "pygments_lexer": "ipython3",
   "version": "3.6.4"
  }
 },
 "nbformat": 4,
 "nbformat_minor": 2
}
